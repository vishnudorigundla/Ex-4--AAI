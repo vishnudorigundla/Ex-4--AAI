{
  "nbformat": 4,
  "nbformat_minor": 0,
  "metadata": {
    "colab": {
      "provenance": [],
      "authorship_tag": "ABX9TyOuPWTgsH6b5Zv1tQj2hVcZ",
      "include_colab_link": true
    },
    "kernelspec": {
      "name": "python3",
      "display_name": "Python 3"
    },
    "language_info": {
      "name": "python"
    }
  },
  "cells": [
    {
      "cell_type": "markdown",
      "metadata": {
        "id": "view-in-github",
        "colab_type": "text"
      },
      "source": [
        "<a href=\"https://colab.research.google.com/github/vishnudorigundla/Ex-4--AAI/blob/main/ex04_ai.ipynb\" target=\"_parent\"><img src=\"https://colab.research.google.com/assets/colab-badge.svg\" alt=\"Open In Colab\"/></a>"
      ]
    },
    {
      "cell_type": "code",
      "execution_count": 1,
      "metadata": {
        "id": "Ysx7lkbPvKZB"
      },
      "outputs": [],
      "source": [
        "import numpy as np"
      ]
    },
    {
      "cell_type": "code",
      "source": [
        "transition_matrix=np.array([[0.7,0.3],[0.4,0.6]])\n",
        "initial_probabilities=np.array([0.5,0.5])\n",
        "observed_sequence=np.array([1,1,1,0,0,1])\n",
        "emisson_matrix=np.array([[0.1,0.9],[0.8,0.2]])\n"
      ],
      "metadata": {
        "id": "ycKGn9v1vOA8"
      },
      "execution_count": 2,
      "outputs": []
    },
    {
      "cell_type": "code",
      "source": [
        "alpha=np.zeros((len(observed_sequence),len(initial_probabilities)))\n"
      ],
      "metadata": {
        "id": "kK5qAMJBvO6_"
      },
      "execution_count": 3,
      "outputs": []
    },
    {
      "cell_type": "code",
      "source": [
        "alpha[0,:]=initial_probabilities*emisson_matrix[:,observed_sequence[0]]"
      ],
      "metadata": {
        "id": "vIAP9W85vRUp"
      },
      "execution_count": 4,
      "outputs": []
    },
    {
      "cell_type": "code",
      "source": [
        "for t in range(1,len(observed_sequence)):\n",
        "  for j in range(len(initial_probabilities)):\n",
        "    alpha[t,j]=emisson_matrix[j,observed_sequence[t]]*np.sum(alpha[t-1,:]*transition_matrix[:,j])\n"
      ],
      "metadata": {
        "id": "KZ5pCqP2vT2i"
      },
      "execution_count": 5,
      "outputs": []
    },
    {
      "cell_type": "code",
      "source": [
        "probability=np.sum(alpha[-1,:])\n"
      ],
      "metadata": {
        "id": "jkYnBkkPvWdE"
      },
      "execution_count": 6,
      "outputs": []
    },
    {
      "cell_type": "code",
      "source": [
        "print(\"The probability of the observed sequence is:\",probability)"
      ],
      "metadata": {
        "colab": {
          "base_uri": "https://localhost:8080/"
        },
        "id": "jb4ng1EMvZD1",
        "outputId": "3c556d2a-2428-48f0-8d0a-f29f8da1ce44"
      },
      "execution_count": 7,
      "outputs": [
        {
          "output_type": "stream",
          "name": "stdout",
          "text": [
            "The probability of the observed sequence is: 0.018906881625\n"
          ]
        }
      ]
    },
    {
      "cell_type": "code",
      "source": [
        "most_likely_sequence=[]\n",
        "for t in range(len(observed_sequence)):\n",
        "  if(alpha[t,0] > alpha[t,1]):\n",
        "    most_likely_sequence.append(\"sunny\")\n",
        "  else:\n",
        "    most_likely_sequence.append('rainy')\n"
      ],
      "metadata": {
        "id": "Z6sya90bvevS"
      },
      "execution_count": 8,
      "outputs": []
    },
    {
      "cell_type": "code",
      "source": [
        "print(\"The most likely sequence of weather states is:\",most_likely_sequence)"
      ],
      "metadata": {
        "colab": {
          "base_uri": "https://localhost:8080/"
        },
        "id": "RIclGRDxvj23",
        "outputId": "74e55f90-c3c9-4cfb-8bd7-8f97a71aa8e4"
      },
      "execution_count": 9,
      "outputs": [
        {
          "output_type": "stream",
          "name": "stdout",
          "text": [
            "The most likely sequence of weather states is: ['sunny', 'sunny', 'sunny', 'rainy', 'rainy', 'sunny']\n"
          ]
        }
      ]
    }
  ]
}